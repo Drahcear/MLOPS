{
 "cells": [
  {
   "cell_type": "code",
   "execution_count": 1,
   "id": "db17624c",
   "metadata": {},
   "outputs": [],
   "source": [
    "from datetime import datetime\n",
    "import json\n",
    "from kafka import KafkaProducer\n",
    "import pandas as pd\n",
    "from sender import Card, Sender"
   ]
  },
  {
   "cell_type": "code",
   "execution_count": 2,
   "id": "46a61c7e",
   "metadata": {},
   "outputs": [],
   "source": [
    "import uuid\n",
    "def createUID():\n",
    "    return uuid.uuid1()"
   ]
  },
  {
   "cell_type": "code",
   "execution_count": 3,
   "id": "71afe1f1",
   "metadata": {},
   "outputs": [],
   "source": [
    "import glob\n",
    "files = glob.glob(\"DB/*.csv\")\n",
    "df = pd.DataFrame() #since it is just simulation of creating info pandas is fine 7000 lines of info only\n",
    "for f in files:\n",
    "    csv = pd.read_csv(f)\n",
    "    df = pd.concat([csv, df], ignore_index=True)\n",
    "df = df.astype(str)"
   ]
  },
  {
   "cell_type": "code",
   "execution_count": 5,
   "id": "26f232d0",
   "metadata": {},
   "outputs": [
    {
     "name": "stdout",
     "output_type": "stream",
     "text": [
      "{\"date\": \"2022/12/07 14:36:18\", \"ID\": \"20ef2798-7634-11ed-8909-309c23ff59e3\", \"country\": \"French Polynesia\", \"name\": \"Brian Barnes\", \"number\": \"4456698741840\", \"CVC\": \"603\", \"expire\": \"04/29\"}\n"
     ]
    }
   ],
   "source": [
    "row = df.sample().values.flatten().tolist()\n",
    "sender = Sender(createUID(), \"t4\", \"localhost\", Card(row[0], row[1], row[2], row[3]))\n",
    "sender.send()"
   ]
  }
 ],
 "metadata": {
  "kernelspec": {
   "display_name": "Python 3 (ipykernel)",
   "language": "python",
   "name": "python3"
  },
  "language_info": {
   "codemirror_mode": {
    "name": "ipython",
    "version": 3
   },
   "file_extension": ".py",
   "mimetype": "text/x-python",
   "name": "python",
   "nbconvert_exporter": "python",
   "pygments_lexer": "ipython3",
   "version": "3.8.10"
  }
 },
 "nbformat": 4,
 "nbformat_minor": 5
}
