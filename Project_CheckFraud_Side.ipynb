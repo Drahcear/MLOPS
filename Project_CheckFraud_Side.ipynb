{
 "cells": [
  {
   "cell_type": "code",
   "execution_count": 10,
   "id": "e292d93d",
   "metadata": {},
   "outputs": [],
   "source": [
    "from kafka import KafkaConsumer\n",
    "from kafka import KafkaProducer\n",
    "from pyspark.sql import SparkSession\n",
    "from pyspark.sql.types import StructType,StructField, StringType, IntegerType, TimestampType\n",
    "import json\n",
    "import pyspark\n",
    "from pyspark.sql.functions import from_json, col\n",
    "from datetime import datetime\n",
    "import time"
   ]
  },
  {
   "cell_type": "code",
   "execution_count": 2,
   "id": "298719a6",
   "metadata": {},
   "outputs": [
    {
     "name": "stderr",
     "output_type": "stream",
     "text": [
      "22/12/07 10:49:34 WARN Utils: Your hostname, MSI resolves to a loopback address: 127.0.1.1; using 192.168.124.1 instead (on interface eth1)\n",
      "22/12/07 10:49:34 WARN Utils: Set SPARK_LOCAL_IP if you need to bind to another address\n",
      "Using Spark's default log4j profile: org/apache/spark/log4j-defaults.properties\n",
      "Setting default log level to \"WARN\".\n",
      "To adjust logging level use sc.setLogLevel(newLevel). For SparkR, use setLogLevel(newLevel).\n",
      "22/12/07 10:49:34 WARN NativeCodeLoader: Unable to load native-hadoop library for your platform... using builtin-java classes where applicable\n"
     ]
    }
   ],
   "source": [
    "spark = SparkSession.builder.master(\"local\").appName(\"FraudCheck\").getOrCreate()"
   ]
  },
  {
   "cell_type": "code",
   "execution_count": 3,
   "id": "554afddc",
   "metadata": {},
   "outputs": [],
   "source": [
    "df = spark.read.option(\"header\",\"true\").csv(\"DB/client.csv\")"
   ]
  },
  {
   "cell_type": "code",
   "execution_count": 4,
   "id": "c658cf06",
   "metadata": {},
   "outputs": [],
   "source": [
    "banned_countries = ['North Korea', 'Russia', 'Iran', 'Cuba', 'Sudan', 'Syria', 'Belgique']"
   ]
  },
  {
   "cell_type": "code",
   "execution_count": 13,
   "id": "5abc69a0",
   "metadata": {},
   "outputs": [],
   "source": [
    "def login_check(value):\n",
    "    if value[\"country\"] in banned_countries:\n",
    "        return False\n",
    "    return True\n",
    "\n",
    "def check(row, key, expected):\n",
    "    return row[key] == expected\n",
    "    \n",
    "def credit_card_check(value):\n",
    "    \n",
    "    reason = \"Forbidden Country\"\n",
    "    if not login_check(value):\n",
    "        return False, reason\n",
    "        \n",
    "    reason = \"False Card\"\n",
    "    name = value[\"name\"]\n",
    "    number = value[\"number\"]\n",
    "    CVC = value[\"CVC\"]\n",
    "    expire = value[\"expire\"]\n",
    "    row = df.where(df.number==number).limit(1).collect()\n",
    "    \n",
    "    if len(row) == 0:\n",
    "        return False, reason\n",
    "    row = row[0]\n",
    "    res = check(row, \"number\", number) and check(row, \"CVC\", CVC) and check(row, \"expire\", expire) and check(row, \"name\", name)\n",
    "    if res:\n",
    "        reason = \"Card accepted\"\n",
    "    return res, reason\n",
    "    \n",
    "#credit_card_check({\"name\":'Stephanie Vega', \"number\":'180039745386698', \"CVC\":'187', \"expire\":'02/31'})"
   ]
  },
  {
   "cell_type": "code",
   "execution_count": null,
   "id": "854b4d45",
   "metadata": {},
   "outputs": [
    {
     "name": "stdout",
     "output_type": "stream",
     "text": [
      "{'date': '2022/12/07 14:40:35', 'ID': 'ba17f3d2-7634-11ed-b861-309c23ff59e3', 'country': 'France', 'name': 'a', 'number': 'a', 'CVC': 'aa', 'expire': 'a'}\n"
     ]
    }
   ],
   "source": [
    "def send(msg, producer, topic):\n",
    "    msg = json.dumps(msg)        \n",
    "    producer.send(topic, msg.encode('utf-8'))\n",
    "    producer.flush()\n",
    "    \n",
    "\n",
    "producer = KafkaProducer(bootstrap_servers=\"localhost\")\n",
    "\n",
    "consumer = KafkaConsumer('t3')\n",
    "\n",
    "for msg in consumer:\n",
    "   value = json.loads(msg.value)\n",
    "   res, reason = credit_card_check(value)\n",
    "   print(value)\n",
    "   time.sleep(0.1)\n",
    "   send({\"ID\" : value[\"ID\"], \"res\": str(res), \"body\": reason}, producer, \"t4\")        "
   ]
  }
 ],
 "metadata": {
  "kernelspec": {
   "display_name": "Python 3 (ipykernel)",
   "language": "python",
   "name": "python3"
  },
  "language_info": {
   "codemirror_mode": {
    "name": "ipython",
    "version": 3
   },
   "file_extension": ".py",
   "mimetype": "text/x-python",
   "name": "python",
   "nbconvert_exporter": "python",
   "pygments_lexer": "ipython3",
   "version": "3.8.10"
  }
 },
 "nbformat": 4,
 "nbformat_minor": 5
}
